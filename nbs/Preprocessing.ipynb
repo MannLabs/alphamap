{
 "cells": [
  {
   "cell_type": "code",
   "execution_count": null,
   "metadata": {},
   "outputs": [],
   "source": [
    "# default_exp preprocessing"
   ]
  },
  {
   "cell_type": "markdown",
   "metadata": {},
   "source": [
    "# Data preprocessing"
   ]
  },
  {
   "cell_type": "markdown",
   "metadata": {},
   "source": [
    "## This notebook provides functions to format input data for sequence plotting\n",
    "\n",
    "The formatted input data is returned as pandas dataframe containing following columns:\n",
    "* unique_protein_id: a single uniprot accession\n",
    "* modified_sequence: modified peptide sequence\n",
    "* naked_sequence: naked peptide sequence\t\n",
    "* all_protein_ids: all UniProt IDs the peptide map to separated by ';'\n",
    "* start: peptide start position on protein sequence\n",
    "* end: peptide end position on protein sequence\n",
    "* PTMsites: list with PTM positions\n",
    "* PTMtypes: list with PTM types"
   ]
  },
  {
   "cell_type": "code",
   "execution_count": null,
   "metadata": {},
   "outputs": [],
   "source": [
    "#hide\n",
    "\n",
    "###### Generate input data for testing ######"
   ]
  },
  {
   "cell_type": "code",
   "execution_count": null,
   "metadata": {},
   "outputs": [],
   "source": [
    "#hide\n",
    "\n",
    "import pandas as pd\n",
    "import numpy as np\n",
    "import re"
   ]
  },
  {
   "cell_type": "code",
   "execution_count": null,
   "metadata": {},
   "outputs": [],
   "source": [
    "#hide\n",
    "\n",
    "test_df = pd.DataFrame(data={'all_protein_ids': [\"A0A024R161;A0A087WT10;A0A087WTH1\", \n",
    "                                                 \"A0A024R161;A0A087WT10\", \n",
    "                                                 \"A0A087WTH5\",\"A0A087WTH5\",\n",
    "                                                 \"Nonsense\"], \n",
    "                        'modified_sequence': [\"PEPT[Phospho (STY)]IDER\", \n",
    "                                              \"SEQ[GlyGly (K)]UENCE[GlyGly (K)]R\", \n",
    "                                              \"VIEWER\",\"NONSEQ\",\n",
    "                                              \"NONSENSE\"],\n",
    "                        'naked_sequence': [\"PEPTIDER\", \n",
    "                                           \"SEQUENCER\", \n",
    "                                           \"VIEWER\",\"NONSEQ\",\n",
    "                                           \"NONSENSE\"]})"
   ]
  },
  {
   "cell_type": "code",
   "execution_count": null,
   "metadata": {},
   "outputs": [],
   "source": [
    "#hide\n",
    "\n",
    "test_df_expanded = pd.DataFrame(data={'unique_protein_id': [\"A0A024R161\", \"A0A087WT10\", \"A0A087WTH1\", \n",
    "                                                            \"A0A024R161\", \"A0A087WT10\", \n",
    "                                                            \"A0A087WTH5\",\"A0A087WTH5\",\n",
    "                                                            \"Nonsense\"], \n",
    "                                      'modified_sequence': [\"PEPT[Phospho (STY)]IDER\", \"PEPT[Phospho (STY)]IDER\", \"PEPT[Phospho (STY)]IDER\",\n",
    "                                                            \"SEQ[GlyGly (K)]UENCE[GlyGly (K)]R\", \"SEQ[GlyGly (K)]UENCE[GlyGly (K)]R\", \n",
    "                                                            \"VIEWER\",\"NONSEQ\",\n",
    "                                                            \"NONSENSE\"],\n",
    "                                      'naked_sequence': [\"PEPTIDER\", \"PEPTIDER\", \"PEPTIDER\", \n",
    "                                                         \"SEQUENCER\", \"SEQUENCER\", \n",
    "                                                         \"VIEWER\",\"NONSEQ\",\n",
    "                                                         \"NONSENSE\"],\n",
    "                                      'all_protein_ids': [\"A0A024R161;A0A087WT10;A0A087WTH1\", \"A0A024R161;A0A087WT10;A0A087WTH1\", \"A0A024R161;A0A087WT10;A0A087WTH1\", \n",
    "                                                 \"A0A024R161;A0A087WT10\", \"A0A024R161;A0A087WT10\", \n",
    "                                                 \"A0A087WTH5\",\"A0A087WTH5\",\n",
    "                                                 \"Nonsense\"]})"
   ]
  },
  {
   "cell_type": "code",
   "execution_count": null,
   "metadata": {},
   "outputs": [],
   "source": [
    "#hide\n",
    "\n",
    "test_df_expanded_peptide_position = pd.DataFrame(data={'unique_protein_id': [\"A0A024R161\", \"A0A087WT10\", \"A0A087WTH1\", \n",
    "                                                                             \"A0A024R161\", \"A0A087WT10\", \n",
    "                                                                             \"A0A087WTH5\"], \n",
    "                                                       'modified_sequence': [\"PEPT[Phospho (STY)]IDER\", \"PEPT[Phospho (STY)]IDER\", \"PEPT[Phospho (STY)]IDER\",\n",
    "                                                                             \"SEQ[GlyGly (K)]UENCE[GlyGly (K)]R\", \"SEQ[GlyGly (K)]UENCE[GlyGly (K)]R\", \n",
    "                                                                             \"VIEWER\"],\n",
    "                                                       'naked_sequence': [\"PEPTIDER\", \"PEPTIDER\", \"PEPTIDER\", \n",
    "                                                                          \"SEQUENCER\", \"SEQUENCER\", \n",
    "                                                                          \"VIEWER\"],\n",
    "                                                       'all_protein_ids': [\"A0A024R161;A0A087WT10;A0A087WTH1\", \"A0A024R161;A0A087WT10;A0A087WTH1\", \"A0A024R161;A0A087WT10;A0A087WTH1\", \n",
    "                                                                             \"A0A024R161;A0A087WT10\", \"A0A024R161;A0A087WT10\", \n",
    "                                                                             \"A0A087WTH5\"],\n",
    "                                                       'start':[3,28,107,95,150,1],\n",
    "                                                       'end':[10,35,114,103,158,6]})"
   ]
  },
  {
   "cell_type": "code",
   "execution_count": null,
   "metadata": {},
   "outputs": [],
   "source": [
    "#hide\n",
    "\n",
    "test_df_modifications = pd.DataFrame(data={'unique_protein_id': [\"A0A024R161\", \"A0A087WT10\", \"A0A087WTH1\", \n",
    "                                                                             \"A0A024R161\", \"A0A087WT10\", \n",
    "                                                                             \"A0A087WTH5\"], \n",
    "                                                       'modified_sequence': [\"PEPT[Phospho (STY)]IDER\", \"PEPT[Phospho (STY)]IDER\", \"PEPT[Phospho (STY)]IDER\",\n",
    "                                                                             \"SEQ[GlyGly (K)]UENCE[GlyGly (K)]R\", \"SEQ[GlyGly (K)]UENCE[GlyGly (K)]R\", \n",
    "                                                                             \"VIEWER\"],\n",
    "                                                       'naked_sequence': [\"PEPTIDER\", \"PEPTIDER\", \"PEPTIDER\", \n",
    "                                                                          \"SEQUENCER\", \"SEQUENCER\", \n",
    "                                                                          \"VIEWER\"],\n",
    "                                           'all_protein_ids': [\"A0A024R161;A0A087WT10;A0A087WTH1\", \"A0A024R161;A0A087WT10;A0A087WTH1\", \"A0A024R161;A0A087WT10;A0A087WTH1\", \n",
    "                                                                             \"A0A024R161;A0A087WT10\", \"A0A024R161;A0A087WT10\", \n",
    "                                                                             \"A0A087WTH5\"],\n",
    "                                                       'start':[3,28,107,95,150,1],\n",
    "                                                       'end':[10,35,114,103,158,6], \n",
    "                                           'PTMsites':[[3],[3],[3],[2,7],[2,7],[]],\n",
    "                                           'PTMtypes':[[\"[Phospho (STY)]\"],[\"[Phospho (STY)]\"],[\"[Phospho (STY)]\"],[\"[GlyGly (K)]\",\"[GlyGly (K)]\"],[\"[GlyGly (K)]\",\"[GlyGly (K)]\"],[]]})\n"
   ]
  },
  {
   "cell_type": "markdown",
   "metadata": {},
   "source": [
    "## Split protein group into unique protein accessions"
   ]
  },
  {
   "cell_type": "markdown",
   "metadata": {},
   "source": [
    "The *all_protein_ids* column in *df* is split by ';' to result in unique rows for each UniProt accession. The exploded dataframe has a new column *unique_protein_id*. "
   ]
  },
  {
   "cell_type": "code",
   "execution_count": null,
   "metadata": {},
   "outputs": [],
   "source": [
    "#export\n",
    "import pandas as pd\n",
    "def extract_uniprot_id(protein_id:str):\n",
    "    \"\"\"\n",
    "    Extract the Uniprot unique entry id from the unusual formatted protein_id. \n",
    "    \"\"\"\n",
    "    if 'sp' in protein_id:\n",
    "        return protein_id.split('|')[1]\n",
    "    elif '__' in protein_id:\n",
    "        return protein_id.split('__')[-1]\n",
    "    return protein_id\n",
    "\n",
    "def expand_protein_ids(df: pd.DataFrame):\n",
    "    \"\"\"\n",
    "    Function to split protein groups in 'all_protein_ids' by ';' into separate rows.\n",
    "    The resulting dataframe has a new column 'unique_protein_id'.\n",
    "    Args:\n",
    "        df (pd.DataFrame): Experimental data that was imported by the 'import_data' function.\n",
    "    Returns:\n",
    "        pd.DataFrame: Exploded dataframe with a new column 'unique_protein_id'.\n",
    "    \"\"\"\n",
    "    df = df.copy(deep=True)\n",
    "    df.all_protein_ids = df.all_protein_ids.str.split(';')\n",
    "    df[\"all_protein_ids_all\"] = df.all_protein_ids.apply(lambda x: ';'.join(sorted(x)))\n",
    "    res = df.explode('all_protein_ids').reset_index(drop=True)\n",
    "    res.columns = ['unique_protein_id','modified_sequence','naked_sequence','all_protein_ids']\n",
    "    res.unique_protein_id = res.unique_protein_id.apply(lambda x: extract_uniprot_id(x))\n",
    "    return res"
   ]
  },
  {
   "cell_type": "code",
   "execution_count": null,
   "metadata": {},
   "outputs": [],
   "source": [
    "#hide\n",
    "\n",
    "def test_extract_uniprot_id():\n",
    "    prot_id_1 = 'sp|P02769|ALBU_BOVIN'\n",
    "    assert 'P02769' == extract_uniprot_id(prot_id_1)\n",
    "    prot_id_2 = 'CON__P02769'\n",
    "    assert 'P02769' == extract_uniprot_id(prot_id_2)\n",
    "\n",
    "def test_expand_protein_ids():\n",
    "    res = expand_protein_ids(test_df)\n",
    "    pd.testing.assert_frame_equal(res,test_df_expanded)\n",
    "\n",
    "test_extract_uniprot_id()\n",
    "test_expand_protein_ids()"
   ]
  },
  {
   "cell_type": "markdown",
   "metadata": {},
   "source": [
    "## Annotate peptides with start and end position"
   ]
  },
  {
   "cell_type": "markdown",
   "metadata": {},
   "source": [
    "The *get_peptide_position* function annotates a peptide's start and end position in the given protein sequence."
   ]
  },
  {
   "cell_type": "code",
   "execution_count": null,
   "metadata": {},
   "outputs": [],
   "source": [
    "#export \n",
    "import re\n",
    "import numpy as np\n",
    "from pyteomics import fasta\n",
    "\n",
    "def pep_position_helper(seq: str, prot: str, fasta: fasta, verbose: bool = True):\n",
    "    \"\"\"\n",
    "    Helper function for 'get_peptide_position'.\n",
    "\n",
    "    Args:\n",
    "        seq (str): Naked peptide sequence.\n",
    "        prot (str): UniProt protein accession.\n",
    "        fasta (fasta): Fasta file imported by pyteomics 'fasta.IndexedUniProt'.\n",
    "        verbose (bool, optional): Flag to print warnings if no matching sequence is found for a protein in the provided fasta. Defaults to 'True'.\n",
    "    Returns:\n",
    "        [int, int]: int: peptide start position, int: peptide end position\n",
    "\n",
    "    \"\"\"\n",
    "    try:\n",
    "        fasta_prot = fasta[prot]\n",
    "        search_res = re.search(seq,fasta_prot.sequence)\n",
    "        if search_res is None:\n",
    "            start, end = np.NaN, np.NaN\n",
    "            if verbose:\n",
    "                warnings.warn(f'Peptide sequence {seq} could not be mached to {prot} in the selected fasta.')\n",
    "        else:\n",
    "            start, end = search_res.span()\n",
    "    except:\n",
    "        start, end = np.NaN, np.NaN\n",
    "        if verbose:\n",
    "            warnings.warn(f'No matching entry for {prot} in the selected fasta.')\n",
    "\n",
    "    return start, end-1"
   ]
  },
  {
   "cell_type": "code",
   "execution_count": null,
   "metadata": {},
   "outputs": [],
   "source": [
    "#hide\n",
    "\n",
    "# @ToDO: Maybe write .fasta import function to remove dependency for pyteomics\n",
    "test_fasta = fasta.IndexedUniProt(\"../testdata/test.fasta\")\n",
    "\n",
    "def test_pep_position_helper():\n",
    "    start, end = pep_position_helper(\"PEPTIDER\",\"A0A024R161\",test_fasta)\n",
    "    np.testing.assert_equal([start, end], [3,10])\n",
    "\n",
    "test_pep_position_helper()"
   ]
  },
  {
   "cell_type": "code",
   "execution_count": null,
   "metadata": {},
   "outputs": [],
   "source": [
    "#export \n",
    "\n",
    "import warnings\n",
    "\n",
    "def get_peptide_position(df: pd.DataFrame, fasta: fasta, verbose:bool = True):\n",
    "    \"\"\"\n",
    "    Function to get start and end position of each peptide in the given protein.\n",
    "\n",
    "    Args:\n",
    "        df (pd.DataFrame): Experimental data that was imported by the 'import_data' function and processed by 'expand_protein_ids'.\n",
    "        fasta (fasta): Fasta file imported by pyteomics 'fasta.IndexedUniProt'.\n",
    "        verbose (bool, optional): Flag to print warnings if no matching sequence is found for a protein in the provided fasta. Defaults to 'True'.\n",
    "    Returns:\n",
    "        pd.DataFrame: Dataframe with a new columns 'start' and 'end', indicating the start and end index position of the peptide sequence.\n",
    "\n",
    "    \"\"\"\n",
    "    res = df.copy(deep=True)\n",
    "    res[['start','end']] = res.apply(lambda row: pep_position_helper(row['naked_sequence'],\n",
    "                                                                     row['unique_protein_id'],\n",
    "                                                                     fasta,\n",
    "                                                                     verbose=verbose),\n",
    "                                     axis=1, result_type='expand')\n",
    "\n",
    "    res_na = res[res.isnull().any(1)]\n",
    "    prots_na = res_na.unique_protein_id.unique()\n",
    "\n",
    "    res = res.dropna()\n",
    "    res['start'] = res['start'].astype('int64')\n",
    "    res['end'] = res['end'].astype('int64')\n",
    "    return res"
   ]
  },
  {
   "cell_type": "code",
   "execution_count": null,
   "metadata": {},
   "outputs": [],
   "source": [
    "#hide\n",
    "\n",
    "def test_get_peptide_position():\n",
    "    with warnings.catch_warnings(record=True) as w:\n",
    "        res = get_peptide_position(test_df_expanded, test_fasta)\n",
    "        assert len(w) == 2\n",
    "        assert \"Peptide sequence NONSEQ could not be mached\" in str(w[0].message)\n",
    "        assert \"No matching entry for Nonsense\" in str(w[1].message)\n",
    "    pd.testing.assert_frame_equal(res,test_df_expanded_peptide_position)\n",
    "    \n",
    "test_get_peptide_position()"
   ]
  },
  {
   "cell_type": "markdown",
   "metadata": {},
   "source": [
    "## Annotate each peptide with PTM site indices and modification types"
   ]
  },
  {
   "cell_type": "markdown",
   "metadata": {},
   "source": [
    "The *get_modifications* function annotates sequence positions and modification types of all PTMs on a peptide."
   ]
  },
  {
   "cell_type": "code",
   "execution_count": null,
   "metadata": {},
   "outputs": [],
   "source": [
    "#export\n",
    "import numpy as np\n",
    "\n",
    "def get_ptm_sites(peptide: str, modification_reg: str):\n",
    "    \"\"\"\n",
    "    Function to get sequence positions of all PTMs of a peptide in the given protein.\n",
    "\n",
    "    Args:\n",
    "        peptide (str): Experimental data that was imported by the 'import_data' function and processed by 'expand_protein_ids'.\n",
    "        modification_reg (str): Regular expression for the modifications.\n",
    "    Returns:\n",
    "        list: List of integers with PTM site location indices on the peptide.\n",
    "\n",
    "    \"\"\"\n",
    "    r = re.compile(modification_reg)\n",
    "    starts=[]\n",
    "    ends=[]\n",
    "    for m in r.finditer(peptide):\n",
    "        starts.append(m.start())\n",
    "        ends.append(m.end())\n",
    "    PTM_sites = np.zeros(len(starts))\n",
    "    for idx in range(0,len(starts)):\n",
    "        if idx > 0:\n",
    "            previous_len=previous_len+(ends[idx-1]-starts[idx-1])\n",
    "        else:\n",
    "            previous_len=0\n",
    "        PTM_sites[idx] = starts[idx] - previous_len - 1\n",
    "    PTM_sites = [int(i)+1 if i < 0 else int(i) for i in PTM_sites]\n",
    "    return PTM_sites"
   ]
  },
  {
   "cell_type": "code",
   "execution_count": null,
   "metadata": {},
   "outputs": [],
   "source": [
    "#hide\n",
    "\n",
    "def test_get_ptm_sites():\n",
    "    myPep = \"PEPT[Phospho]IDE[GlyGly (K)]R\"\n",
    "    res = get_ptm_sites(myPep, modification_reg=r'\\[.*?\\]')\n",
    "    np.testing.assert_equal(res, [3,6])\n",
    "    \n",
    "    myPep = \"[Ac]PEPTIDE[GlyGly (K)]R\"\n",
    "    res = get_ptm_sites(myPep, modification_reg=r'\\[.*?\\]')\n",
    "    np.testing.assert_equal(res, [0,6])\n",
    "    \n",
    "test_get_ptm_sites()"
   ]
  },
  {
   "cell_type": "code",
   "execution_count": null,
   "metadata": {},
   "outputs": [],
   "source": [
    "#export\n",
    "import re\n",
    "\n",
    "def get_modifications(df: pd.DataFrame, mod_reg: str):\n",
    "    \"\"\"\n",
    "    Function to get sequence positions and modification types of all PTMs of a peptide in the given protein.\n",
    "\n",
    "    Args:\n",
    "        df (pd.DataFrame): Experimental data that was imported by the 'import_data' function and processed by 'expand_protein_ids'.\n",
    "        mod_reg (str): Regular expression for the modifications.\n",
    "    Returns:\n",
    "        pd.DataFrame: Dataframe with a new columns 'PTMsites' and 'PTMtypes' containing lists of PTM site indices and modification types, respectively.\n",
    "\n",
    "    \"\"\"\n",
    "    res = df.copy(deep=True)\n",
    "    res['PTMsites'] = res.apply(lambda row: get_ptm_sites(row['modified_sequence'],\n",
    "                                                        modification_reg=mod_reg), axis=1)\n",
    "    res['PTMtypes'] = res.apply(lambda row: re.findall(mod_reg, row['modified_sequence']), axis=1)\n",
    "    return res"
   ]
  },
  {
   "cell_type": "code",
   "execution_count": null,
   "metadata": {},
   "outputs": [],
   "source": [
    "#hide\n",
    "\n",
    "def test_get_modifications():\n",
    "    res = get_modifications(test_df_expanded_peptide_position, mod_reg = r'\\[.*?\\]')\n",
    "    pd.testing.assert_frame_equal(res, test_df_modifications)\n",
    "    \n",
    "test_get_modifications()"
   ]
  },
  {
   "cell_type": "markdown",
   "metadata": {},
   "source": [
    "## Preprocessing wrapper"
   ]
  },
  {
   "cell_type": "markdown",
   "metadata": {},
   "source": [
    "The *format_input_data* function is a wrapper for all previous functions described in this notebook. It calls following functios:\n",
    "- *expand_protein_ids*: to split protein groups into unique uniprot accessions\n",
    "- *get_peptide_position*: to annotate each peptide with its start and end position on its respective protein sequence\n",
    "- *get_modifications*: To get the sequence positions and modification types of all PTMs of a peptide."
   ]
  },
  {
   "cell_type": "code",
   "execution_count": null,
   "metadata": {},
   "outputs": [],
   "source": [
    "#export\n",
    "\n",
    "def format_input_data(df: pd.DataFrame, fasta: fasta, modification_exp: str, verbose:bool = True):\n",
    "    \"\"\"\n",
    "    Function to format input data and to annotate sequence start and end positions plus PTM sites.\n",
    "\n",
    "    Args:\n",
    "        df (pd.DataFrame): Experimental data that was imported by the 'import_data' function.\n",
    "        fasta (fasta): Fasta file imported by pyteomics 'fasta.IndexedUniProt'.\n",
    "        modification_exp (str): Regular expression for the modifications.\n",
    "        verbose (bool, optional): Flag to print warnings if no matching sequence is found for a protein in the provided fasta. Defaults to 'True'.\n",
    "    Returns:\n",
    "        pd.DataFrame: Dataframe with unique uniprot accessions, sequence start and end positions, and PTM site information.\n",
    "\n",
    "    \"\"\"\n",
    "    res = df.copy(deep=True)\n",
    "    res = expand_protein_ids(res)\n",
    "    res = get_peptide_position(res, fasta = fasta, verbose=verbose)\n",
    "    res = get_modifications(res, mod_reg = modification_exp)\n",
    "    return res"
   ]
  },
  {
   "cell_type": "code",
   "execution_count": null,
   "metadata": {},
   "outputs": [
    {
     "name": "stdout",
     "output_type": "stream",
     "text": [
      "  unique_protein_id                  modified_sequence naked_sequence  \\\n",
      "0        A0A024R161            PEPT[Phospho (STY)]IDER       PEPTIDER   \n",
      "1        A0A087WT10            PEPT[Phospho (STY)]IDER       PEPTIDER   \n",
      "2        A0A087WTH1            PEPT[Phospho (STY)]IDER       PEPTIDER   \n",
      "3        A0A024R161  SEQ[GlyGly (K)]UENCE[GlyGly (K)]R      SEQUENCER   \n",
      "4        A0A087WT10  SEQ[GlyGly (K)]UENCE[GlyGly (K)]R      SEQUENCER   \n",
      "5        A0A087WTH5                             VIEWER         VIEWER   \n",
      "\n",
      "                    all_protein_ids  start  end PTMsites  \\\n",
      "0  A0A024R161;A0A087WT10;A0A087WTH1      3   10      [3]   \n",
      "1  A0A024R161;A0A087WT10;A0A087WTH1     28   35      [3]   \n",
      "2  A0A024R161;A0A087WT10;A0A087WTH1    107  114      [3]   \n",
      "3             A0A024R161;A0A087WT10     95  103   [2, 7]   \n",
      "4             A0A024R161;A0A087WT10    150  158   [2, 7]   \n",
      "5                        A0A087WTH5      1    6       []   \n",
      "\n",
      "                       PTMtypes  \n",
      "0             [[Phospho (STY)]]  \n",
      "1             [[Phospho (STY)]]  \n",
      "2             [[Phospho (STY)]]  \n",
      "3  [[GlyGly (K)], [GlyGly (K)]]  \n",
      "4  [[GlyGly (K)], [GlyGly (K)]]  \n",
      "5                            []  \n"
     ]
    }
   ],
   "source": [
    "#hide\n",
    "\n",
    "def test_format_input_data():\n",
    "    with warnings.catch_warnings(record=True) as w:\n",
    "        res = format_input_data(df=test_df, fasta = test_fasta, modification_exp = r'\\[.*?\\]')\n",
    "        assert len(w) == 2\n",
    "        assert \"Peptide sequence NONSEQ could not be mached\" in str(w[0].message)\n",
    "        assert \"No matching entry for Nonsense\" in str(w[1].message)   \n",
    "    pd.testing.assert_frame_equal(res, test_df_modifications)\n",
    "    print(res)\n",
    "\n",
    "test_format_input_data()"
   ]
  },
  {
   "cell_type": "code",
   "execution_count": null,
   "metadata": {},
   "outputs": [],
   "source": [
    "#hide\n",
    "\n",
    "###### Export notebook to script ###### "
   ]
  },
  {
   "cell_type": "code",
   "execution_count": null,
   "metadata": {},
   "outputs": [],
   "source": [
    "#hide\n",
    "from nbdev.showdoc import *"
   ]
  },
  {
   "cell_type": "code",
   "execution_count": null,
   "metadata": {},
   "outputs": [
    {
     "name": "stdout",
     "output_type": "stream",
     "text": [
      "Converted Importing.ipynb.\n",
      "Converted Preprocessing.ipynb.\n",
      "Converted SequencePlot.ipynb.\n",
      "Converted Uniprot_integration.ipynb.\n",
      "Converted index.ipynb.\n",
      "Converted organisms_data.ipynb.\n",
      "Converted proteolytic_cleavage.ipynb.\n"
     ]
    }
   ],
   "source": [
    "#hide\n",
    "from nbdev.export import *\n",
    "notebook2script()"
   ]
  }
 ],
 "metadata": {
  "kernelspec": {
   "display_name": "Python 3",
   "language": "python",
   "name": "python3"
  }
 },
 "nbformat": 4,
 "nbformat_minor": 2
}
