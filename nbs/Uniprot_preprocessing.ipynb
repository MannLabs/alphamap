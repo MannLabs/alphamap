{
 "cells": [
  {
   "cell_type": "markdown",
   "metadata": {},
   "source": [
    "# This notebook shows how to load and format a UniProt annotation file"
   ]
  },
  {
   "cell_type": "markdown",
   "metadata": {},
   "source": [
    "### Instructions on how to download a UniProt annotation file\n",
    "\n",
    "1. Go to the Uniprot website(https://www.uniprot.org/uniprot/), select the organism of interest in the \"Popular organisms\" section and click on it.\n",
    "2. Click the \"Download\" button and select \"Text\" format.\n",
    "3. Select the \"Compressed\" radio button and click \"Go\".\n",
    "4. Unzip the downloaded file and specify the path to this file."
   ]
  },
  {
   "cell_type": "code",
   "execution_count": null,
   "metadata": {},
   "outputs": [],
   "source": [
    "from alphamap.uniprot_integration import preprocess_uniprot"
   ]
  },
  {
   "cell_type": "markdown",
   "metadata": {},
   "source": [
    "### Import and process the uniprot annotation file"
   ]
  },
  {
   "cell_type": "code",
   "execution_count": null,
   "metadata": {},
   "outputs": [],
   "source": [
    "path_downloaded_uniprot = '../UniprotAnnotations/uniprot_human_111120.txt'"
   ]
  },
  {
   "cell_type": "code",
   "execution_count": null,
   "metadata": {},
   "outputs": [],
   "source": [
    "uniprot_df = preprocess_uniprot(path_downloaded_uniprot)"
   ]
  },
  {
   "cell_type": "code",
   "execution_count": null,
   "metadata": {},
   "outputs": [],
   "source": [
    "uniprot_df.info()"
   ]
  },
  {
   "cell_type": "code",
   "execution_count": null,
   "metadata": {},
   "outputs": [],
   "source": [
    "uniprot_df[0:5]"
   ]
  },
  {
   "cell_type": "markdown",
   "metadata": {},
   "source": [
    "### Save the preprocessed UniProt data to the desired location"
   ]
  },
  {
   "cell_type": "code",
   "execution_count": null,
   "metadata": {},
   "outputs": [],
   "source": [
    "uniprot_df.to_csv('alphamap/data/preprocessed_uniprot_human.csv', index=False)"
   ]
  },
  {
   "cell_type": "markdown",
   "metadata": {},
   "source": [
    "# Process mouse annotation"
   ]
  },
  {
   "cell_type": "code",
   "execution_count": null,
   "metadata": {},
   "outputs": [],
   "source": [
    "mouse_uniprot_df = preprocess_uniprot('../UniprotAnnotations/uniprot_mouse_091120.txt')"
   ]
  },
  {
   "cell_type": "code",
   "execution_count": null,
   "metadata": {},
   "outputs": [],
   "source": [
    "mouse_uniprot_df.to_csv('alphamap/data/preprocessed_uniprot_mouse.csv', index=False)"
   ]
  },
  {
   "cell_type": "markdown",
   "metadata": {},
   "source": [
    "# Process arabidopsis annotation"
   ]
  },
  {
   "cell_type": "code",
   "execution_count": null,
   "metadata": {},
   "outputs": [],
   "source": [
    "arabidopsis_uniprot_df = preprocess_uniprot('../UniprotAnnotations/uniprot_arabidopsis_thaliana_131120.txt')"
   ]
  },
  {
   "cell_type": "code",
   "execution_count": null,
   "metadata": {},
   "outputs": [],
   "source": [
    "arabidopsis_uniprot_df.to_csv('alphamap/data/preprocessed_uniprot_arabidopsis.csv', index=False)"
   ]
  },
  {
   "cell_type": "markdown",
   "metadata": {},
   "source": [
    "# Process zebrafish"
   ]
  },
  {
   "cell_type": "code",
   "execution_count": null,
   "metadata": {},
   "outputs": [],
   "source": [
    "zebrafish_uniprot_df = preprocess_uniprot('../UniprotAnnotations/uniprot-filtered-organism__Danio+rerio+(Zebrafish)+(Brachydanio+rerio%--.txt')"
   ]
  },
  {
   "cell_type": "code",
   "execution_count": null,
   "metadata": {},
   "outputs": [],
   "source": [
    "zebrafish_uniprot_df.to_csv('alphamap/data/preprocessed_uniprot_zebrafish.csv', index=False)"
   ]
  },
  {
   "cell_type": "markdown",
   "metadata": {},
   "source": [
    "# Process bovine"
   ]
  },
  {
   "cell_type": "code",
   "execution_count": null,
   "metadata": {},
   "outputs": [],
   "source": [
    "bovine_uniprot_df = preprocess_uniprot('../UniprotAnnotations/uniprot-organism__Bovine+[9913]_.txt')"
   ]
  },
  {
   "cell_type": "code",
   "execution_count": null,
   "metadata": {},
   "outputs": [],
   "source": [
    "bovine_uniprot_df.to_csv('alphamap/data/preprocessed_uniprot_bovine.csv', index=False)"
   ]
  },
  {
   "cell_type": "markdown",
   "metadata": {},
   "source": [
    "# Process rice"
   ]
  },
  {
   "cell_type": "code",
   "execution_count": null,
   "metadata": {},
   "outputs": [],
   "source": [
    "rice_uniprot_df = preprocess_uniprot('../UniprotAnnotations/uniprot-filtered-organism__Oryza+sativa+subsp.+japonica+(Rice)+[39947%--.txt')"
   ]
  },
  {
   "cell_type": "code",
   "execution_count": null,
   "metadata": {},
   "outputs": [],
   "source": [
    "rice_uniprot_df.to_csv('alphamap/data/preprocessed_uniprot_rice.csv', index=False)"
   ]
  },
  {
   "cell_type": "markdown",
   "metadata": {},
   "source": [
    "# Process rat"
   ]
  },
  {
   "cell_type": "code",
   "execution_count": null,
   "metadata": {},
   "outputs": [],
   "source": [
    "rat_uniprot_df = preprocess_uniprot('../UniprotAnnotations/uniprot-organism__Rattus+norvegicus+(Rat)+[10116]_.txt')"
   ]
  },
  {
   "cell_type": "code",
   "execution_count": null,
   "metadata": {},
   "outputs": [],
   "source": [
    "rat_uniprot_df.to_csv('alphamap/data/preprocessed_uniprot_rat.csv', index=False)"
   ]
  },
  {
   "cell_type": "markdown",
   "metadata": {},
   "source": [
    "# Process drosophila"
   ]
  },
  {
   "cell_type": "code",
   "execution_count": null,
   "metadata": {},
   "outputs": [],
   "source": [
    "drosophila_uniprot_df = preprocess_uniprot('../UniprotAnnotations/uniprot-organism__Drosophila+melanogaster+[7227]_.txt')"
   ]
  },
  {
   "cell_type": "code",
   "execution_count": null,
   "metadata": {},
   "outputs": [],
   "source": [
    "drosophila_uniprot_df.to_csv('alphamap/data/preprocessed_uniprot_drosophila.csv', index=False)"
   ]
  },
  {
   "cell_type": "markdown",
   "metadata": {},
   "source": [
    "# Process C. elegans"
   ]
  },
  {
   "cell_type": "code",
   "execution_count": null,
   "metadata": {},
   "outputs": [],
   "source": [
    "celegans_uniprot_df = preprocess_uniprot('../UniprotAnnotations/uniprot-organism__Caenorhabditis+elegans+[6239]_.txt')"
   ]
  },
  {
   "cell_type": "code",
   "execution_count": null,
   "metadata": {},
   "outputs": [],
   "source": [
    "celegans_uniprot_df.to_csv('alphamap/data/preprocessed_uniprot_celegans.csv', index=False)"
   ]
  },
  {
   "cell_type": "markdown",
   "metadata": {},
   "source": [
    "# Process Slimemold"
   ]
  },
  {
   "cell_type": "code",
   "execution_count": null,
   "metadata": {},
   "outputs": [],
   "source": [
    "slimemold_uniprot_df = preprocess_uniprot('../UniprotAnnotations/uniprot-organism__Dictyostelium+discoideum+[44689]_.txt')"
   ]
  },
  {
   "cell_type": "code",
   "execution_count": null,
   "metadata": {},
   "outputs": [],
   "source": [
    "slimemold_uniprot_df.to_csv('alphamap/data/preprocessed_uniprot_slimemold.csv', index=False)"
   ]
  },
  {
   "cell_type": "markdown",
   "metadata": {},
   "source": [
    "# Process Ecoli"
   ]
  },
  {
   "cell_type": "code",
   "execution_count": null,
   "metadata": {},
   "outputs": [],
   "source": [
    "ecoli_uniprot_df = preprocess_uniprot('../UniprotAnnotations/uniprot-organism__Dictyostelium+discoideum+[44689]_.txt')"
   ]
  },
  {
   "cell_type": "code",
   "execution_count": null,
   "metadata": {},
   "outputs": [],
   "source": [
    "ecoli_uniprot_df.to_csv('alphamap/data/preprocessed_uniprot_ecoli.csv', index=False)"
   ]
  },
  {
   "cell_type": "markdown",
   "metadata": {},
   "source": [
    "# Process Bsubtilis"
   ]
  },
  {
   "cell_type": "code",
   "execution_count": null,
   "metadata": {},
   "outputs": [],
   "source": [
    "bsubtilis_uniprot_df = preprocess_uniprot('../UniprotAnnotations/uniprot-organism__Bacillus+subtilis+(strain+168)+[224308]_.txt')"
   ]
  },
  {
   "cell_type": "code",
   "execution_count": null,
   "metadata": {},
   "outputs": [],
   "source": [
    "bsubtilis_uniprot_df.to_csv('alphamap/data/preprocessed_uniprot_bsubtilis.csv', index=False)"
   ]
  },
  {
   "cell_type": "markdown",
   "metadata": {},
   "source": [
    "# Process yeast"
   ]
  },
  {
   "cell_type": "code",
   "execution_count": null,
   "metadata": {},
   "outputs": [],
   "source": [
    "yeast_uniprot_df = preprocess_uniprot('../UniprotAnnotations/uniprot-organism__Saccharomyces+cerevisiae+(strain+ATCC+204508+_+S288c%2--.txt')"
   ]
  },
  {
   "cell_type": "code",
   "execution_count": null,
   "metadata": {},
   "outputs": [],
   "source": [
    "yeast_uniprot_df.to_csv('alphamap/data/preprocessed_uniprot_yeast.csv', index=False)"
   ]
  },
  {
   "cell_type": "markdown",
   "metadata": {},
   "source": [
    "# Process SARS-COV"
   ]
  },
  {
   "cell_type": "code",
   "execution_count": null,
   "metadata": {},
   "outputs": [],
   "source": [
    "cov_uniprot_df = preprocess_uniprot('../UniprotAnnotations/uniprot-organism__SARS-CoV+[694009]_.txt')"
   ]
  },
  {
   "cell_type": "code",
   "execution_count": null,
   "metadata": {},
   "outputs": [],
   "source": [
    "cov_uniprot_df.to_csv('alphamap/data/preprocessed_uniprot_cov.csv', index=False)"
   ]
  },
  {
   "cell_type": "markdown",
   "metadata": {},
   "source": [
    "# Process SARS-COV2"
   ]
  },
  {
   "cell_type": "code",
   "execution_count": null,
   "metadata": {},
   "outputs": [],
   "source": [
    "cov2_uniprot_df = preprocess_uniprot('../UniprotAnnotations/uniprot-organism__SARS-CoV-2+[2697049]_.txt')"
   ]
  },
  {
   "cell_type": "code",
   "execution_count": null,
   "metadata": {},
   "outputs": [],
   "source": [
    "cov2_uniprot_df.to_csv('alphamap/data/preprocessed_uniprot_cov2.csv', index=False)"
   ]
  },
  {
   "cell_type": "code",
   "execution_count": null,
   "metadata": {},
   "outputs": [],
   "source": []
  }
 ],
 "metadata": {
  "kernelspec": {
   "display_name": "Python [conda env:alphamap]",
   "language": "python",
   "name": "conda-env-alphamap-py"
  }
 },
 "nbformat": 4,
 "nbformat_minor": 2
}
