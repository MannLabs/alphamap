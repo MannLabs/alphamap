{
 "cells": [
  {
   "cell_type": "code",
   "execution_count": null,
   "metadata": {},
   "outputs": [],
   "source": [
    "# default_exp proteolytic_cleavage"
   ]
  },
  {
   "cell_type": "markdown",
   "metadata": {},
   "source": [
    "# Protease information"
   ]
  },
  {
   "cell_type": "markdown",
   "metadata": {},
   "source": [
    "## Protease dictionary"
   ]
  },
  {
   "cell_type": "markdown",
   "metadata": {},
   "source": [
    "A numba compatible dictionary that stores different regular expressions for proteolytic enzymes. \n",
    "The dictionary is identical to the one in *AlphaPept* and was largely taken from the *Pyteomics* website which in turn derived the rules are from *expasy*."
   ]
  },
  {
   "cell_type": "code",
   "execution_count": null,
   "metadata": {},
   "outputs": [],
   "source": [
    "#export\n",
    "protease_dict = dict()\n",
    "\n",
    "protease_dict[\"arg-c\"] = \"R\"\n",
    "protease_dict[\"asp-n\"] = \"\\w(?=D)\"\n",
    "protease_dict[\"bnps-skatole\"] = \"W\"\n",
    "protease_dict[\"caspase 1\"] = \"(?<=[FWYL]\\w[HAT])D(?=[^PEDQKR])\"\n",
    "protease_dict[\"caspase 2\"] = \"(?<=DVA)D(?=[^PEDQKR])\"\n",
    "protease_dict[\"caspase 3\"] = \"(?<=DMQ)D(?=[^PEDQKR])\"\n",
    "protease_dict[\"caspase 4\"] = \"(?<=LEV)D(?=[^PEDQKR])\"\n",
    "protease_dict[\"caspase 5\"] = \"(?<=[LW]EH)D\"\n",
    "protease_dict[\"caspase 6\"] = \"(?<=VE[HI])D(?=[^PEDQKR])\"\n",
    "protease_dict[\"caspase 7\"] = \"(?<=DEV)D(?=[^PEDQKR])\"\n",
    "protease_dict[\"caspase 8\"] = \"(?<=[IL]ET)D(?=[^PEDQKR])\"\n",
    "protease_dict[\"caspase 9\"] = \"(?<=LEH)D\"\n",
    "protease_dict[\"caspase 10\"] = \"(?<=IEA)D\"\n",
    "protease_dict[\"chymotrypsin high specificity\"] = \"([FY](?=[^P]))|(W(?=[^MP]))\"\n",
    "protease_dict[\"chymotrypsin low specificity\"] = \"([FLY](?=[^P]))|(W(?=[^MP]))|(M(?=[^PY]))|(H(?=[^DMPW]))\"\n",
    "protease_dict[\"clostripain\"] = \"R\"\n",
    "protease_dict[\"cnbr\"] = \"M\"\n",
    "protease_dict[\"enterokinase\"] = \"(?<=[DE]{3})K\"\n",
    "protease_dict[\"factor xa\"] = \"(?<=[AFGILTVM][DE]G)R\"\n",
    "protease_dict[\"formic acid\"] = \"D\"\n",
    "protease_dict[\"glutamyl endopeptidase\"] = \"E\"\n",
    "protease_dict[\"granzyme b\"] = \"(?<=IEP)D\"\n",
    "protease_dict[\"hydroxylamine\"] = \"N(?=G)\"\n",
    "protease_dict[\"iodosobenzoic acid\"] = \"W\"\n",
    "protease_dict[\"lysc\"] = \"K\"\n",
    "protease_dict[\"ntcb\"] = \"\\w(?=C)\"\n",
    "protease_dict[\"pepsin ph1.3\"] = \"((?<=[^HKR][^P])[^R](?=[FL][^P]))|((?<=[^HKR][^P])[FL](?=\\w[^P]))\"\n",
    "protease_dict[\"pepsin ph2.0\"] = \"((?<=[^HKR][^P])[^R](?=[FLWY][^P]))|((?<=[^HKR][^P])[FLWY](?=\\w[^P]))\"\n",
    "protease_dict[\"proline endopeptidase\"] = \"(?<=[HKR])P(?=[^P])\"\n",
    "protease_dict[\"proteinase k\"] = \"[AEFILTVWY]\"\n",
    "protease_dict[\"staphylococcal peptidase i\"] = \"(?<=[^E])E\"\n",
    "protease_dict[\"thermolysin\"] = \"[^DE](?=[AFILMV])\"\n",
    "protease_dict[\"thrombin\"] = \"((?<=G)R(?=G))|((?<=[AFGILTVM][AFGILTVWA]P)R(?=[^DE][^DE]))\"\n",
    "protease_dict[\"trypsin_full\"] = \"([KR](?=[^P]))|((?<=W)K(?=P))|((?<=M)R(?=P))\"\n",
    "protease_dict[\"trypsin_exception\"] = \"((?<=[CD])K(?=D))|((?<=C)K(?=[HY]))|((?<=C)R(?=K))|((?<=R)R(?=[HR]))\"\n",
    "protease_dict[\"non-specific\"] = \"()\"\n",
    "protease_dict[\"trypsin\"] = \"([KR](?=[^P]))\"\n",
    "protease_dict[\"custom_enzyme\"] = None"
   ]
  },
  {
   "cell_type": "code",
   "execution_count": null,
   "metadata": {},
   "outputs": [
    {
     "data": {
      "text/plain": [
       "'([KR](?=[^P]))'"
      ]
     },
     "execution_count": null,
     "metadata": {},
     "output_type": "execute_result"
    }
   ],
   "source": [
    "protease_dict[\"trypsin\"]"
   ]
  },
  {
   "cell_type": "code",
   "execution_count": null,
   "metadata": {},
   "outputs": [],
   "source": [
    "#hide\n",
    "def test_get_protease_dict():\n",
    "    p_dict = protease_dict\n",
    "    assert p_dict[\"trypsin\"] == \"([KR](?=[^P]))\"\n",
    "    \n",
    "test_get_protease_dict()"
   ]
  },
  {
   "cell_type": "markdown",
   "metadata": {},
   "source": [
    "## Get proteolytic cleavage sites for a protein sequence"
   ]
  },
  {
   "cell_type": "code",
   "execution_count": null,
   "metadata": {},
   "outputs": [],
   "source": [
    "#export\n",
    "import re\n",
    "def get_cleavage_sites(sequence: str, protease: str):\n",
    "    \"\"\"\n",
    "    Function to get the position of proteolytic cleavage sites in a sequence.\n",
    "\n",
    "    Args:\n",
    "        sequence (str): Amino acid sequence.\n",
    "        protease (str): Protease to use for in silico digestion.\n",
    "    Returns:\n",
    "        list: List of cleavage site indices for the selected protease.\n",
    "\n",
    "    \"\"\"\n",
    "    pattern = re.compile(protease_dict[protease])\n",
    "    pattern_idx = pattern.finditer(sequence)\n",
    "    pattern_idx = [m.start(0) for m in pattern_idx]\n",
    "    return pattern_idx"
   ]
  },
  {
   "cell_type": "code",
   "execution_count": null,
   "metadata": {},
   "outputs": [],
   "source": [
    "#hide\n",
    "import numpy as np\n",
    "def test_get_cleavage_sites():\n",
    "    cleavage_sites = get_cleavage_sites(\"PEPTIDERANGEKATRAT\", \"trypsin\")\n",
    "    np.testing.assert_equal(cleavage_sites, [7, 12, 15])\n",
    "    cleavage_sites2 = get_cleavage_sites(\"PEPTIDERANGEKATRAT\", \"lysc\")\n",
    "    np.testing.assert_equal(cleavage_sites2, [12])\n",
    "    cleavage_sites3 = get_cleavage_sites(\"PEPTIDERANGEKATRAT\", \"caspase 2\")\n",
    "    np.testing.assert_equal(cleavage_sites3, [])\n",
    "    cleavage_sites4 = get_cleavage_sites(\"PEPVDVADTIDE\", \"caspase 2\")\n",
    "    np.testing.assert_equal(cleavage_sites4, [7])\n",
    "    \n",
    "test_get_cleavage_sites()"
   ]
  },
  {
   "cell_type": "code",
   "execution_count": null,
   "metadata": {},
   "outputs": [],
   "source": [
    "#hide\n",
    "\n",
    "###### Export notebook to script ###### "
   ]
  },
  {
   "cell_type": "code",
   "execution_count": null,
   "metadata": {},
   "outputs": [],
   "source": [
    "#hide\n",
    "from nbdev.showdoc import *"
   ]
  },
  {
   "cell_type": "code",
   "execution_count": null,
   "metadata": {},
   "outputs": [
    {
     "name": "stdout",
     "output_type": "stream",
     "text": [
      "Converted Importing.ipynb.\n",
      "Converted Preprocessing.ipynb.\n",
      "Converted SequencePlot.ipynb.\n",
      "Converted Uniprot_integration.ipynb.\n",
      "Converted index.ipynb.\n",
      "Converted organisms_data.ipynb.\n",
      "Converted proteolytic_cleavage.ipynb.\n"
     ]
    }
   ],
   "source": [
    "#hide\n",
    "from nbdev.export import *\n",
    "notebook2script()"
   ]
  }
 ],
 "metadata": {
  "kernelspec": {
   "display_name": "Python 3 (ipykernel)",
   "language": "python",
   "name": "python3"
  }
 },
 "nbformat": 4,
 "nbformat_minor": 2
}
