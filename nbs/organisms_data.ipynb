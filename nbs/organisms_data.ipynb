{
 "cells": [
  {
   "cell_type": "code",
   "execution_count": null,
   "metadata": {},
   "outputs": [],
   "source": [
    "# default_exp organisms_data"
   ]
  },
  {
   "cell_type": "markdown",
   "metadata": {},
   "source": [
    "# UniProt import for different organisms"
   ]
  },
  {
   "cell_type": "markdown",
   "metadata": {},
   "source": [
    "## Dictionary linking organisms to their available fasta files and uniprot annotations"
   ]
  },
  {
   "cell_type": "markdown",
   "metadata": {},
   "source": [
    "The import functions herein are only for loading data specified in the *all_organisms* dictionary. This means that the uniprot annotation files referred to herein have already been processed and formatted by alphamap. "
   ]
  },
  {
   "cell_type": "code",
   "execution_count": null,
   "metadata": {},
   "outputs": [],
   "source": [
    "#export\n",
    "all_organisms = {\n",
    "    'Human': {'fasta_name': 'human.fasta',\n",
    "               'uniprot_name': 'preprocessed_uniprot_human.csv'\n",
    "              },\n",
    "    'Mouse': {'fasta_name': 'mouse.fasta',\n",
    "               'uniprot_name': 'preprocessed_uniprot_mouse.csv'\n",
    "              },\n",
    "    'Rat': {'fasta_name': 'rat_[10116].fasta',\n",
    "               'uniprot_name': 'preprocessed_uniprot_rat.csv'\n",
    "              },\n",
    "    'Cow': {'fasta_name': 'bovine_[9913].fasta',\n",
    "               'uniprot_name': 'preprocessed_uniprot_bovine.csv'\n",
    "              },\n",
    "    'Zebrafish': {'fasta_name': 'zebrafish_[7955].fasta',\n",
    "               'uniprot_name': 'preprocessed_uniprot_zebrafish.csv'\n",
    "              },\n",
    "    'Drosophila': {'fasta_name': 'drosophila_[7227].fasta',\n",
    "               'uniprot_name': 'preprocessed_uniprot_drosophila.csv'\n",
    "              },\n",
    "    'Caenorhabditis elegans': {'fasta_name': 'celegans_[6239].fasta',\n",
    "               'uniprot_name': 'preprocessed_uniprot_human.csv'\n",
    "              },\n",
    "    'Slime mold': {'fasta_name': 'slimemold_[44689].fasta',\n",
    "               'uniprot_name': 'preprocessed_uniprot_slimemold.csv'\n",
    "              },\n",
    "    'Arabidopsis thaliana': {'fasta_name': 'arabidopsis_thaliana.fasta',\n",
    "               'uniprot_name': 'preprocessed_uniprot_arabidopsis.csv'\n",
    "              },\n",
    "    'Rice': {'fasta_name': 'rice_[39947].fasta',\n",
    "               'uniprot_name': 'preprocessed_uniprot_rice.csv'\n",
    "              },\n",
    "    'Escherichia coli': {'fasta_name': 'ecoli_[83333].fasta',\n",
    "               'uniprot_name': 'preprocessed_uniprot_ecoli.csv'\n",
    "              },\n",
    "    'Bacillus subtilis': {'fasta_name': 'bsubtilis_[224308].fasta',\n",
    "               'uniprot_name': 'preprocessed_uniprot_bsubtilis.csv'\n",
    "              },\n",
    "    'Saccharomyces cerevisiae': {'fasta_name': 'yeast_[559292].fasta',\n",
    "               'uniprot_name': 'preprocessed_uniprot_yeast.csv'\n",
    "              },\n",
    "    'SARS-CoV': {'fasta_name': 'cov.fasta',\n",
    "               'uniprot_name': 'preprocessed_uniprot_cov.csv'\n",
    "              },\n",
    "    'SARS-CoV2': {'fasta_name': 'cov2.fasta',\n",
    "               'uniprot_name': 'preprocessed_uniprot_cov2.csv'\n",
    "              }\n",
    "}"
   ]
  },
  {
   "cell_type": "code",
   "execution_count": null,
   "metadata": {},
   "outputs": [],
   "source": [
    "all_organisms['Rat']"
   ]
  },
  {
   "cell_type": "markdown",
   "metadata": {},
   "source": [
    "## Function to load fasta file for a selected organism"
   ]
  },
  {
   "cell_type": "code",
   "execution_count": null,
   "metadata": {},
   "outputs": [],
   "source": [
    "#export\n",
    "import os\n",
    "import urllib.request\n",
    "import shutil\n",
    "import imp\n",
    "from pyteomics import fasta\n",
    "def import_fasta(organism: str):\n",
    "    \"\"\"\n",
    "    Import fasta file for the selected organism.\n",
    "    This downloads the file from github if not present.\n",
    "\n",
    "    Args:\n",
    "        organism (str): Organism for which the fasta file should be imported.\n",
    "    Returns:\n",
    "        fasta: Fasta file imported by pyteomics 'fasta.IndexedUniProt' for the selected organism.\n",
    "    \"\"\"\n",
    "    if not organism in all_organisms.keys():\n",
    "        raise ValueError(f\"Organism {organism} is not available. Please select one of the following: {list(all_organisms.keys())}\")\n",
    "\n",
    "\n",
    "    BASE_PATH = imp.find_module(\"alphamap\")[1] #os.path.abspath('')\n",
    "    INI_PATH = os.path.join(BASE_PATH, '..')\n",
    "    FUNCT_PATH = os.path.join(INI_PATH, 'alphamap')\n",
    "    DATA_PATH = os.path.join(FUNCT_PATH, 'data')\n",
    "\n",
    "    fasta_name = all_organisms[organism]['fasta_name']\n",
    "\n",
    "    if not os.path.exists(os.path.join(DATA_PATH, fasta_name)):\n",
    "        print(f\"The fasta file for {organism} is downloaded from github.\")\n",
    "        github_url_data_folder = 'https://github.com/MannLabs/alphamap/blob/master/alphamap/data/'\n",
    "\n",
    "        github_file = os.path.join(\n",
    "            github_url_data_folder,\n",
    "            os.path.basename(os.path.join(DATA_PATH, fasta_name))) + '/?raw=true'\n",
    "\n",
    "        with urllib.request.urlopen(github_file) as response, open(os.path.join(DATA_PATH, fasta_name), 'wb') as out_file:\n",
    "            shutil.copyfileobj(response, out_file)\n",
    "\n",
    "    fasta_file = fasta.IndexedUniProt(os.path.join(DATA_PATH, fasta_name))\n",
    "\n",
    "    return fasta_file"
   ]
  },
  {
   "cell_type": "code",
   "execution_count": null,
   "metadata": {},
   "outputs": [],
   "source": [
    "#hide\n",
    "\n",
    "def test_import_fasta():\n",
    "    \n",
    "    # Test if exception works\n",
    "    try:\n",
    "        out = import_fasta(organism='rat')\n",
    "    except ValueError as e:\n",
    "        out = e\n",
    "    assert str(out) == \"Organism rat is not available. Please select one of the following: ['Human', 'Mouse', 'Rat', 'Cow', 'Zebrafish', 'Drosophila', 'Caenorhabditis elegans', 'Slime mold', 'Arabidopsis thaliana', 'Rice', 'Escherichia coli', 'Bacillus subtilis', 'Saccharomyces cerevisiae', 'SARS-CoV', 'SARS-CoV2']\" \n",
    "    \n",
    "    # Test if fasta is read correctly\n",
    "    ecoli_fasta = import_fasta('Escherichia coli')\n",
    "    assert ecoli_fasta[0].sequence == \"MSQNTLKVHDLNEDAEFDENGVEVFDEKALVEQEPSDNDLAEEELLSQGATQRVLDATQLYLGEIGYSPLLTAEEEVYFARRALRGDVASRRRMIESNLRLVVKIARRYGNRGLALLDLIEEGNLGLIRAVEKFDPERGFRFSTYATWWIRQTIERAIMNQTRTIRLPIHIVKELNVYLRTARELSHKLDHEPSAEEIAEQLDKPVDDVSRMLRLNERITSVDTPLGGDSEKALLDILADEKENGPEDTTQDDDMKQSIVKWLFELNAKQREVLARRFGLLGYEAATLEDVGREIGLTRERVRQIQVEGLRRLREILQTQGLNIEALFRE\"\n",
    "    \n",
    "test_import_fasta()"
   ]
  },
  {
   "cell_type": "markdown",
   "metadata": {},
   "source": [
    "## Function to load uniprot annotations for a selected organism"
   ]
  },
  {
   "cell_type": "code",
   "execution_count": null,
   "metadata": {},
   "outputs": [],
   "source": [
    "#export\n",
    "import os\n",
    "import urllib.request\n",
    "import shutil\n",
    "import imp\n",
    "import pandas as pd\n",
    "def import_uniprot_annotation(organism: str):\n",
    "    \"\"\"\n",
    "    Import uniprot annotation file for the selected organism.\n",
    "    This downloads the file from github if not present.\n",
    "\n",
    "    Args:\n",
    "        organism (str): Organism for which the uniprot annotation should be imported.\n",
    "    Returns:\n",
    "        pd.DataFrame: Dataframe with the uniprot annotations for the selected organism.\n",
    "\n",
    "    \"\"\"\n",
    "    if not organism in all_organisms.keys():\n",
    "        raise ValueError(f\"Organism {organism} is not available. Please select one of the following: {list(all_organisms.keys())}\")\n",
    "\n",
    "\n",
    "    BASE_PATH = imp.find_module(\"alphamap\")[1] #os.path.abspath('')\n",
    "    INI_PATH = os.path.join(BASE_PATH, '..')\n",
    "    FUNCT_PATH = os.path.join(INI_PATH, 'alphamap')\n",
    "    DATA_PATH = os.path.join(FUNCT_PATH, 'data')\n",
    "\n",
    "    uniprot_name = all_organisms[organism]['uniprot_name']\n",
    "\n",
    "    if not os.path.exists(os.path.join(DATA_PATH, uniprot_name)):\n",
    "        print(f\"The uniprot annotation file for {organism} is downloaded from github.\")\n",
    "        github_url_data_folder = 'https://github.com/MannLabs/alphamap/blob/master/alphamap/data/'\n",
    "\n",
    "        github_file = os.path.join(\n",
    "            github_url_data_folder,\n",
    "            os.path.basename(os.path.join(DATA_PATH, uniprot_name))) + '/?raw=true'\n",
    "\n",
    "        with urllib.request.urlopen(github_file) as response, open(os.path.join(DATA_PATH, uniprot_name), 'wb') as out_file:\n",
    "            shutil.copyfileobj(response, out_file)\n",
    "\n",
    "    uniprot_file = pd.read_csv(os.path.join(DATA_PATH, uniprot_name))\n",
    "\n",
    "    return uniprot_file"
   ]
  },
  {
   "cell_type": "code",
   "execution_count": null,
   "metadata": {},
   "outputs": [],
   "source": [
    "#hide\n",
    "\n",
    "def test_import_uniprot_annotation():\n",
    "    \n",
    "    # Test if exception works\n",
    "    try:\n",
    "        out = import_uniprot_annotation(organism='rat')\n",
    "    except ValueError as e:\n",
    "        out = e\n",
    "    assert str(out) == \"Organism rat is not available. Please select one of the following: ['Human', 'Mouse', 'Rat', 'Cow', 'Zebrafish', 'Drosophila', 'Caenorhabditis elegans', 'Slime mold', 'Arabidopsis thaliana', 'Rice', 'Escherichia coli', 'Bacillus subtilis', 'Saccharomyces cerevisiae', 'SARS-CoV', 'SARS-CoV2']\" \n",
    "    \n",
    "    # Test if fasta is read correctly\n",
    "    ecoli_uniprot = import_uniprot_annotation('Escherichia coli')\n",
    "    assert ecoli_uniprot.protein_id[0] == \"P27685\"\n",
    "    \n",
    "test_import_uniprot_annotation()"
   ]
  },
  {
   "cell_type": "code",
   "execution_count": null,
   "metadata": {},
   "outputs": [],
   "source": [
    "#hide\n",
    "\n",
    "###### Export notebook to script ###### "
   ]
  },
  {
   "cell_type": "code",
   "execution_count": null,
   "metadata": {},
   "outputs": [],
   "source": [
    "#hide\n",
    "from nbdev.showdoc import *"
   ]
  },
  {
   "cell_type": "code",
   "execution_count": null,
   "metadata": {},
   "outputs": [],
   "source": [
    "#hide\n",
    "from nbdev.export import *\n",
    "notebook2script()"
   ]
  },
  {
   "cell_type": "code",
   "execution_count": null,
   "metadata": {},
   "outputs": [],
   "source": []
  }
 ],
 "metadata": {
  "kernelspec": {
   "display_name": "Python [conda env:alphamap] *",
   "language": "python",
   "name": "conda-env-alphamap-py"
  },
  "language_info": {
   "codemirror_mode": {
    "name": "ipython",
    "version": 3
   },
   "file_extension": ".py",
   "mimetype": "text/x-python",
   "name": "python",
   "nbconvert_exporter": "python",
   "pygments_lexer": "ipython3",
   "version": "3.8.18"
  }
 },
 "nbformat": 4,
 "nbformat_minor": 4
}
