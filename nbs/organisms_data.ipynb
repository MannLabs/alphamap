{
 "cells": [
  {
   "cell_type": "code",
   "execution_count": 1,
   "metadata": {},
   "outputs": [],
   "source": [
    "# default_exp organisms_data"
   ]
  },
  {
   "cell_type": "markdown",
   "metadata": {},
   "source": [
    "# UniProt import for different organisms"
   ]
  },
  {
   "cell_type": "markdown",
   "metadata": {},
   "source": [
    "## Dictionary linking organisms to their available fasta files and uniprot annotations"
   ]
  },
  {
   "cell_type": "markdown",
   "metadata": {},
   "source": [
    "The import functions herein are only for loading data specified in the *all_organisms* dictionary. This means that the uniprot annotation files referred to herein have already been processed and formatted by alphamap. "
   ]
  },
  {
   "cell_type": "code",
   "execution_count": 2,
   "metadata": {},
   "outputs": [],
   "source": [
    "#export\n",
    "all_organisms = {\n",
    "    'Human': {'fasta_name': 'human.fasta',\n",
    "               'uniprot_name': 'preprocessed_uniprot_human.csv'\n",
    "              },\n",
    "    'Mouse': {'fasta_name': 'mouse.fasta',\n",
    "               'uniprot_name': 'preprocessed_uniprot_mouse.csv'\n",
    "              },\n",
    "    'Rat': {'fasta_name': 'rat_[10116].fasta',\n",
    "               'uniprot_name': 'preprocessed_uniprot_rat.csv'\n",
    "              },\n",
    "    'Cow': {'fasta_name': 'bovine_[9913].fasta',\n",
    "               'uniprot_name': 'preprocessed_uniprot_bovine.csv'\n",
    "              },\n",
    "    'Zebrafish': {'fasta_name': 'zebrafish_[7955].fasta',\n",
    "               'uniprot_name': 'preprocessed_uniprot_zebrafish.csv'\n",
    "              },\n",
    "    'Drosophila': {'fasta_name': 'drosophila_[7227].fasta',\n",
    "               'uniprot_name': 'preprocessed_uniprot_drosophila.csv'\n",
    "              },\n",
    "    'Caenorhabditis elegans': {'fasta_name': 'celegans_[6239].fasta',\n",
    "               'uniprot_name': 'preprocessed_uniprot_human.csv'\n",
    "              },\n",
    "    'Slime mold': {'fasta_name': 'slimemold_[44689].fasta',\n",
    "               'uniprot_name': 'preprocessed_uniprot_slimemold.csv'\n",
    "              },\n",
    "    'Arabidopsis thaliana': {'fasta_name': 'arabidopsis_thaliana.fasta',\n",
    "               'uniprot_name': 'preprocessed_uniprot_arabidopsis.csv'\n",
    "              },\n",
    "    'Rice': {'fasta_name': 'rice_[39947].fasta',\n",
    "               'uniprot_name': 'preprocessed_uniprot_rice.csv'\n",
    "              },\n",
    "    'Escherichia coli': {'fasta_name': 'ecoli_[83333].fasta',\n",
    "               'uniprot_name': 'preprocessed_uniprot_ecoli.csv'\n",
    "              },\n",
    "    'Bacillus subtilis': {'fasta_name': 'bsubtilis_[224308].fasta',\n",
    "               'uniprot_name': 'preprocessed_uniprot_bsubtilis.csv'\n",
    "              },\n",
    "    'Saccharomyces cerevisiae': {'fasta_name': 'yeast_[559292].fasta',\n",
    "               'uniprot_name': 'preprocessed_uniprot_yeast.csv'\n",
    "              },\n",
    "    'SARS-CoV': {'fasta_name': 'cov.fasta',\n",
    "               'uniprot_name': 'preprocessed_uniprot_cov.csv'\n",
    "              },\n",
    "    'SARS-CoV2': {'fasta_name': 'cov2.fasta',\n",
    "               'uniprot_name': 'preprocessed_uniprot_cov2.csv'\n",
    "              }\n",
    "}"
   ]
  },
  {
   "cell_type": "code",
   "execution_count": 3,
   "metadata": {},
   "outputs": [
    {
     "data": {
      "text/plain": [
       "{'fasta_name': 'rat_[10116].fasta',\n",
       " 'uniprot_name': 'preprocessed_uniprot_rat.csv'}"
      ]
     },
     "execution_count": 3,
     "metadata": {},
     "output_type": "execute_result"
    }
   ],
   "source": [
    "all_organisms['Rat']"
   ]
  },
  {
   "cell_type": "markdown",
   "metadata": {},
   "source": [
    "## Function to load fasta file for a selected organism"
   ]
  },
  {
   "cell_type": "code",
   "execution_count": 4,
   "metadata": {},
   "outputs": [
    {
     "name": "stderr",
     "output_type": "stream",
     "text": [
      "/var/folders/zx/n29r0swn0hddt1qgy159sjrw0000gn/T/ipykernel_17385/2091071375.py:5: DeprecationWarning: the imp module is deprecated in favour of importlib; see the module's documentation for alternative uses\n",
      "  import imp\n"
     ]
    }
   ],
   "source": [
    "#export\n",
    "import os\n",
    "import urllib.request\n",
    "import shutil\n",
    "import imp\n",
    "from pyteomics import fasta\n",
    "def import_fasta(organism: str):\n",
    "    \"\"\"\n",
    "    Import fasta file for the selected organism.\n",
    "    This downloads the file from github if not present.\n",
    "\n",
    "    Args:\n",
    "        organism (str): Organism for which the fasta file should be imported.\n",
    "    Returns:\n",
    "        fasta: Fasta file imported by pyteomics 'fasta.IndexedUniProt' for the selected organism.\n",
    "    \"\"\"\n",
    "    if not organism in all_organisms.keys():\n",
    "        raise ValueError(f\"Organism {organism} is not available. Please select one of the following: {list(all_organisms.keys())}\")\n",
    "\n",
    "\n",
    "    BASE_PATH = imp.find_module(\"alphamap\")[1] #os.path.abspath('')\n",
    "    INI_PATH = os.path.join(BASE_PATH, '..')\n",
    "    FUNCT_PATH = os.path.join(INI_PATH, 'alphamap')\n",
    "    DATA_PATH = os.path.join(FUNCT_PATH, 'data')\n",
    "\n",
    "    fasta_name = all_organisms[organism]['fasta_name']\n",
    "\n",
    "    if not os.path.exists(os.path.join(DATA_PATH, fasta_name)):\n",
    "        print(f\"The fasta file for {organism} is downloaded from github.\")\n",
    "        github_url_data_folder = 'https://github.com/MannLabs/alphamap/blob/master/alphamap/data/'\n",
    "\n",
    "        github_file = os.path.join(\n",
    "            github_url_data_folder,\n",
    "            os.path.basename(os.path.join(DATA_PATH, fasta_name))) + '/?raw=true'\n",
    "\n",
    "        with urllib.request.urlopen(github_file) as response, open(os.path.join(DATA_PATH, fasta_name), 'wb') as out_file:\n",
    "            shutil.copyfileobj(response, out_file)\n",
    "\n",
    "    fasta_file = fasta.IndexedUniProt(os.path.join(DATA_PATH, fasta_name))\n",
    "\n",
    "    return fasta_file"
   ]
  },
  {
   "cell_type": "code",
   "execution_count": 5,
   "metadata": {},
   "outputs": [],
   "source": [
    "#hide\n",
    "\n",
    "def test_import_fasta():\n",
    "    \n",
    "    # Test if exception works\n",
    "    try:\n",
    "        out = import_fasta(organism='rat')\n",
    "    except ValueError as e:\n",
    "        out = e\n",
    "    assert str(out) == \"Organism rat is not available. Please select one of the following: ['Human', 'Mouse', 'Rat', 'Cow', 'Zebrafish', 'Drosophila', 'Caenorhabditis elegans', 'Slime mold', 'Arabidopsis thaliana', 'Rice', 'Escherichia coli', 'Bacillus subtilis', 'Saccharomyces cerevisiae', 'SARS-CoV', 'SARS-CoV2']\" \n",
    "    \n",
    "    # Test if fasta is read correctly\n",
    "    ecoli_fasta = import_fasta('Escherichia coli')\n",
    "    assert ecoli_fasta[0].sequence == \"MSQNTLKVHDLNEDAEFDENGVEVFDEKALVEQEPSDNDLAEEELLSQGATQRVLDATQLYLGEIGYSPLLTAEEEVYFARRALRGDVASRRRMIESNLRLVVKIARRYGNRGLALLDLIEEGNLGLIRAVEKFDPERGFRFSTYATWWIRQTIERAIMNQTRTIRLPIHIVKELNVYLRTARELSHKLDHEPSAEEIAEQLDKPVDDVSRMLRLNERITSVDTPLGGDSEKALLDILADEKENGPEDTTQDDDMKQSIVKWLFELNAKQREVLARRFGLLGYEAATLEDVGREIGLTRERVRQIQVEGLRRLREILQTQGLNIEALFRE\"\n",
    "    \n",
    "test_import_fasta()"
   ]
  },
  {
   "cell_type": "markdown",
   "metadata": {},
   "source": [
    "## Function to load uniprot annotations for a selected organism"
   ]
  },
  {
   "cell_type": "code",
   "execution_count": 6,
   "metadata": {},
   "outputs": [],
   "source": [
    "#export\n",
    "import os\n",
    "import urllib.request\n",
    "import shutil\n",
    "import imp\n",
    "import pandas as pd\n",
    "def import_uniprot_annotation(organism: str):\n",
    "    \"\"\"\n",
    "    Import uniprot annotation file for the selected organism.\n",
    "    This downloads the file from github if not present.\n",
    "\n",
    "    Args:\n",
    "        organism (str): Organism for which the uniprot annotation should be imported.\n",
    "    Returns:\n",
    "        pd.DataFrame: Dataframe with the uniprot annotations for the selected organism.\n",
    "\n",
    "    \"\"\"\n",
    "    if not organism in all_organisms.keys():\n",
    "        raise ValueError(f\"Organism {organism} is not available. Please select one of the following: {list(all_organisms.keys())}\")\n",
    "\n",
    "\n",
    "    BASE_PATH = imp.find_module(\"alphamap\")[1] #os.path.abspath('')\n",
    "    INI_PATH = os.path.join(BASE_PATH, '..')\n",
    "    FUNCT_PATH = os.path.join(INI_PATH, 'alphamap')\n",
    "    DATA_PATH = os.path.join(FUNCT_PATH, 'data')\n",
    "\n",
    "    uniprot_name = all_organisms[organism]['uniprot_name']\n",
    "\n",
    "    if not os.path.exists(os.path.join(DATA_PATH, uniprot_name)):\n",
    "        print(f\"The uniprot annotation file for {organism} is downloaded from github.\")\n",
    "        github_url_data_folder = 'https://github.com/MannLabs/alphamap/blob/master/alphamap/data/'\n",
    "\n",
    "        github_file = os.path.join(\n",
    "            github_url_data_folder,\n",
    "            os.path.basename(os.path.join(DATA_PATH, uniprot_name))) + '/?raw=true'\n",
    "\n",
    "        with urllib.request.urlopen(github_file) as response, open(os.path.join(DATA_PATH, uniprot_name), 'wb') as out_file:\n",
    "            shutil.copyfileobj(response, out_file)\n",
    "\n",
    "    uniprot_file = pd.read_csv(os.path.join(DATA_PATH, uniprot_name))\n",
    "\n",
    "    return uniprot_file"
   ]
  },
  {
   "cell_type": "code",
   "execution_count": 7,
   "metadata": {},
   "outputs": [],
   "source": [
    "#hide\n",
    "\n",
    "def test_import_uniprot_annotation():\n",
    "    \n",
    "    # Test if exception works\n",
    "    try:\n",
    "        out = import_uniprot_annotation(organism='rat')\n",
    "    except ValueError as e:\n",
    "        out = e\n",
    "    assert str(out) == \"Organism rat is not available. Please select one of the following: ['Human', 'Mouse', 'Rat', 'Cow', 'Zebrafish', 'Drosophila', 'Caenorhabditis elegans', 'Slime mold', 'Arabidopsis thaliana', 'Rice', 'Escherichia coli', 'Bacillus subtilis', 'Saccharomyces cerevisiae', 'SARS-CoV', 'SARS-CoV2']\" \n",
    "    \n",
    "    # Test if fasta is read correctly\n",
    "    ecoli_uniprot = import_uniprot_annotation('Escherichia coli')\n",
    "    assert ecoli_uniprot.protein_id[0] == \"P27685\"\n",
    "    \n",
    "test_import_uniprot_annotation()"
   ]
  },
  {
   "cell_type": "code",
   "execution_count": 8,
   "metadata": {},
   "outputs": [],
   "source": [
    "#hide\n",
    "\n",
    "###### Export notebook to script ###### "
   ]
  },
  {
   "cell_type": "code",
   "execution_count": 9,
   "metadata": {},
   "outputs": [
    {
     "ename": "ImportError",
     "evalue": "cannot import name 'AstRenderer' from 'mistune.renderers' (/opt/anaconda3/envs/alphamap/lib/python3.8/site-packages/mistune/renderers/__init__.py)",
     "output_type": "error",
     "traceback": [
      "\u001b[0;31m---------------------------------------------------------------------------\u001b[0m",
      "\u001b[0;31mImportError\u001b[0m                               Traceback (most recent call last)",
      "File \u001b[0;32m/opt/anaconda3/envs/alphamap/lib/python3.8/site-packages/nbconvert/filters/markdown_mistune.py:25\u001b[0m\n\u001b[1;32m     24\u001b[0m \u001b[38;5;28;01mtry\u001b[39;00m:  \u001b[38;5;66;03m# for Mistune >= 3.0\u001b[39;00m\n\u001b[0;32m---> 25\u001b[0m     \u001b[38;5;28;01mfrom\u001b[39;00m \u001b[38;5;21;01mmistune\u001b[39;00m \u001b[38;5;28;01mimport\u001b[39;00m (  \u001b[38;5;66;03m# type:ignore[attr-defined]\u001b[39;00m\n\u001b[1;32m     26\u001b[0m         BlockParser,\n\u001b[1;32m     27\u001b[0m         BlockState,\n\u001b[1;32m     28\u001b[0m         HTMLRenderer,\n\u001b[1;32m     29\u001b[0m         InlineParser,\n\u001b[1;32m     30\u001b[0m         InlineState,\n\u001b[1;32m     31\u001b[0m         Markdown,\n\u001b[1;32m     32\u001b[0m         import_plugin,\n\u001b[1;32m     33\u001b[0m     )\n\u001b[1;32m     35\u001b[0m     MISTUNE_V3 \u001b[38;5;241m=\u001b[39m \u001b[38;5;28;01mTrue\u001b[39;00m\n",
      "File \u001b[0;32m/opt/anaconda3/envs/alphamap/lib/python3.8/site-packages/mistune/__init__.py:4\u001b[0m\n\u001b[1;32m      3\u001b[0m \u001b[38;5;28;01mfrom\u001b[39;00m \u001b[38;5;21;01m.\u001b[39;00m\u001b[38;5;21;01minline_parser\u001b[39;00m \u001b[38;5;28;01mimport\u001b[39;00m InlineParser\n\u001b[0;32m----> 4\u001b[0m \u001b[38;5;28;01mfrom\u001b[39;00m \u001b[38;5;21;01m.\u001b[39;00m\u001b[38;5;21;01mrenderers\u001b[39;00m \u001b[38;5;28;01mimport\u001b[39;00m AstRenderer, HTMLRenderer\n\u001b[1;32m      5\u001b[0m \u001b[38;5;28;01mfrom\u001b[39;00m \u001b[38;5;21;01m.\u001b[39;00m\u001b[38;5;21;01mplugins\u001b[39;00m \u001b[38;5;28;01mimport\u001b[39;00m PLUGINS\n",
      "\u001b[0;31mImportError\u001b[0m: cannot import name 'AstRenderer' from 'mistune.renderers' (/opt/anaconda3/envs/alphamap/lib/python3.8/site-packages/mistune/renderers/__init__.py)",
      "\nDuring handling of the above exception, another exception occurred:\n",
      "\u001b[0;31mImportError\u001b[0m                               Traceback (most recent call last)",
      "Cell \u001b[0;32mIn[9], line 2\u001b[0m\n\u001b[1;32m      1\u001b[0m \u001b[38;5;66;03m#hide\u001b[39;00m\n\u001b[0;32m----> 2\u001b[0m \u001b[38;5;28;01mfrom\u001b[39;00m \u001b[38;5;21;01mnbdev\u001b[39;00m\u001b[38;5;21;01m.\u001b[39;00m\u001b[38;5;21;01mshowdoc\u001b[39;00m \u001b[38;5;28;01mimport\u001b[39;00m \u001b[38;5;241m*\u001b[39m\n",
      "File \u001b[0;32m/opt/anaconda3/envs/alphamap/lib/python3.8/site-packages/nbdev/__init__.py:7\u001b[0m\n\u001b[1;32m      4\u001b[0m \u001b[38;5;28;01mfrom\u001b[39;00m \u001b[38;5;21;01m.\u001b[39;00m\u001b[38;5;21;01mimports\u001b[39;00m \u001b[38;5;28;01mimport\u001b[39;00m \u001b[38;5;241m*\u001b[39m\n\u001b[1;32m      6\u001b[0m \u001b[38;5;28;01mif\u001b[39;00m IN_IPYTHON:\n\u001b[0;32m----> 7\u001b[0m     \u001b[38;5;28;01mfrom\u001b[39;00m \u001b[38;5;21;01m.\u001b[39;00m\u001b[38;5;21;01mshowdoc\u001b[39;00m \u001b[38;5;28;01mimport\u001b[39;00m show_doc\n",
      "File \u001b[0;32m/opt/anaconda3/envs/alphamap/lib/python3.8/site-packages/nbdev/showdoc.py:11\u001b[0m\n\u001b[1;32m      9\u001b[0m \u001b[38;5;28;01mfrom\u001b[39;00m \u001b[38;5;21;01m.\u001b[39;00m\u001b[38;5;21;01mexport\u001b[39;00m \u001b[38;5;28;01mimport\u001b[39;00m \u001b[38;5;241m*\u001b[39m\n\u001b[1;32m     10\u001b[0m \u001b[38;5;28;01mfrom\u001b[39;00m \u001b[38;5;21;01m.\u001b[39;00m\u001b[38;5;21;01msync\u001b[39;00m \u001b[38;5;28;01mimport\u001b[39;00m \u001b[38;5;241m*\u001b[39m\n\u001b[0;32m---> 11\u001b[0m \u001b[38;5;28;01mfrom\u001b[39;00m \u001b[38;5;21;01mnbconvert\u001b[39;00m \u001b[38;5;28;01mimport\u001b[39;00m HTMLExporter\n\u001b[1;32m     12\u001b[0m \u001b[38;5;28;01mfrom\u001b[39;00m \u001b[38;5;21;01mfastcore\u001b[39;00m\u001b[38;5;21;01m.\u001b[39;00m\u001b[38;5;21;01mdocments\u001b[39;00m \u001b[38;5;28;01mimport\u001b[39;00m docments, isclass, _clean_comment, _tokens, _param_locs, _get_comment\n\u001b[1;32m     13\u001b[0m \u001b[38;5;28;01mfrom\u001b[39;00m \u001b[38;5;21;01mfastcore\u001b[39;00m\u001b[38;5;21;01m.\u001b[39;00m\u001b[38;5;21;01mutils\u001b[39;00m \u001b[38;5;28;01mimport\u001b[39;00m IN_NOTEBOOK\n",
      "File \u001b[0;32m/opt/anaconda3/envs/alphamap/lib/python3.8/site-packages/nbconvert/__init__.py:7\u001b[0m\n\u001b[1;32m      5\u001b[0m \u001b[38;5;28;01mtry\u001b[39;00m:\n\u001b[1;32m      6\u001b[0m     \u001b[38;5;28;01mfrom\u001b[39;00m \u001b[38;5;21;01m.\u001b[39;00m \u001b[38;5;28;01mimport\u001b[39;00m filters, postprocessors, preprocessors, writers\n\u001b[0;32m----> 7\u001b[0m     \u001b[38;5;28;01mfrom\u001b[39;00m \u001b[38;5;21;01m.\u001b[39;00m\u001b[38;5;21;01mexporters\u001b[39;00m \u001b[38;5;28;01mimport\u001b[39;00m (\n\u001b[1;32m      8\u001b[0m         ASCIIDocExporter,\n\u001b[1;32m      9\u001b[0m         Exporter,\n\u001b[1;32m     10\u001b[0m         ExporterNameError,\n\u001b[1;32m     11\u001b[0m         FilenameExtension,\n\u001b[1;32m     12\u001b[0m         HTMLExporter,\n\u001b[1;32m     13\u001b[0m         LatexExporter,\n\u001b[1;32m     14\u001b[0m         MarkdownExporter,\n\u001b[1;32m     15\u001b[0m         NotebookExporter,\n\u001b[1;32m     16\u001b[0m         PDFExporter,\n\u001b[1;32m     17\u001b[0m         PythonExporter,\n\u001b[1;32m     18\u001b[0m         QtPDFExporter,\n\u001b[1;32m     19\u001b[0m         QtPNGExporter,\n\u001b[1;32m     20\u001b[0m         RSTExporter,\n\u001b[1;32m     21\u001b[0m         ScriptExporter,\n\u001b[1;32m     22\u001b[0m         SlidesExporter,\n\u001b[1;32m     23\u001b[0m         TemplateExporter,\n\u001b[1;32m     24\u001b[0m         WebPDFExporter,\n\u001b[1;32m     25\u001b[0m         export,\n\u001b[1;32m     26\u001b[0m         get_export_names,\n\u001b[1;32m     27\u001b[0m         get_exporter,\n\u001b[1;32m     28\u001b[0m     )\n\u001b[1;32m     29\u001b[0m \u001b[38;5;28;01mexcept\u001b[39;00m \u001b[38;5;167;01mModuleNotFoundError\u001b[39;00m:\n\u001b[1;32m     30\u001b[0m     \u001b[38;5;66;03m# We hit this condition when the package is not yet fully installed.\u001b[39;00m\n\u001b[1;32m     31\u001b[0m     \u001b[38;5;28;01mpass\u001b[39;00m\n",
      "File \u001b[0;32m/opt/anaconda3/envs/alphamap/lib/python3.8/site-packages/nbconvert/exporters/__init__.py:4\u001b[0m\n\u001b[1;32m      2\u001b[0m \u001b[38;5;28;01mfrom\u001b[39;00m \u001b[38;5;21;01m.\u001b[39;00m\u001b[38;5;21;01mbase\u001b[39;00m \u001b[38;5;28;01mimport\u001b[39;00m ExporterDisabledError, ExporterNameError, export, get_export_names, get_exporter\n\u001b[1;32m      3\u001b[0m \u001b[38;5;28;01mfrom\u001b[39;00m \u001b[38;5;21;01m.\u001b[39;00m\u001b[38;5;21;01mexporter\u001b[39;00m \u001b[38;5;28;01mimport\u001b[39;00m Exporter, FilenameExtension, ResourcesDict\n\u001b[0;32m----> 4\u001b[0m \u001b[38;5;28;01mfrom\u001b[39;00m \u001b[38;5;21;01m.\u001b[39;00m\u001b[38;5;21;01mhtml\u001b[39;00m \u001b[38;5;28;01mimport\u001b[39;00m HTMLExporter\n\u001b[1;32m      5\u001b[0m \u001b[38;5;28;01mfrom\u001b[39;00m \u001b[38;5;21;01m.\u001b[39;00m\u001b[38;5;21;01mlatex\u001b[39;00m \u001b[38;5;28;01mimport\u001b[39;00m LatexExporter\n\u001b[1;32m      6\u001b[0m \u001b[38;5;28;01mfrom\u001b[39;00m \u001b[38;5;21;01m.\u001b[39;00m\u001b[38;5;21;01mmarkdown\u001b[39;00m \u001b[38;5;28;01mimport\u001b[39;00m MarkdownExporter\n",
      "File \u001b[0;32m/opt/anaconda3/envs/alphamap/lib/python3.8/site-packages/nbconvert/exporters/html.py:29\u001b[0m\n\u001b[1;32m     26\u001b[0m \u001b[38;5;28;01mfrom\u001b[39;00m \u001b[38;5;21;01mnbformat\u001b[39;00m \u001b[38;5;28;01mimport\u001b[39;00m NotebookNode\n\u001b[1;32m     28\u001b[0m \u001b[38;5;28;01mfrom\u001b[39;00m \u001b[38;5;21;01mnbconvert\u001b[39;00m\u001b[38;5;21;01m.\u001b[39;00m\u001b[38;5;21;01mfilters\u001b[39;00m\u001b[38;5;21;01m.\u001b[39;00m\u001b[38;5;21;01mhighlight\u001b[39;00m \u001b[38;5;28;01mimport\u001b[39;00m Highlight2HTML\n\u001b[0;32m---> 29\u001b[0m \u001b[38;5;28;01mfrom\u001b[39;00m \u001b[38;5;21;01mnbconvert\u001b[39;00m\u001b[38;5;21;01m.\u001b[39;00m\u001b[38;5;21;01mfilters\u001b[39;00m\u001b[38;5;21;01m.\u001b[39;00m\u001b[38;5;21;01mmarkdown_mistune\u001b[39;00m \u001b[38;5;28;01mimport\u001b[39;00m IPythonRenderer, MarkdownWithMath\n\u001b[1;32m     30\u001b[0m \u001b[38;5;28;01mfrom\u001b[39;00m \u001b[38;5;21;01mnbconvert\u001b[39;00m\u001b[38;5;21;01m.\u001b[39;00m\u001b[38;5;21;01mfilters\u001b[39;00m\u001b[38;5;21;01m.\u001b[39;00m\u001b[38;5;21;01mwidgetsdatatypefilter\u001b[39;00m \u001b[38;5;28;01mimport\u001b[39;00m WidgetsDataTypeFilter\n\u001b[1;32m     31\u001b[0m \u001b[38;5;28;01mfrom\u001b[39;00m \u001b[38;5;21;01mnbconvert\u001b[39;00m\u001b[38;5;21;01m.\u001b[39;00m\u001b[38;5;21;01mutils\u001b[39;00m\u001b[38;5;21;01m.\u001b[39;00m\u001b[38;5;21;01miso639_1\u001b[39;00m \u001b[38;5;28;01mimport\u001b[39;00m iso639_1\n",
      "File \u001b[0;32m/opt/anaconda3/envs/alphamap/lib/python3.8/site-packages/nbconvert/filters/markdown_mistune.py:40\u001b[0m\n\u001b[1;32m     37\u001b[0m \u001b[38;5;28;01mexcept\u001b[39;00m \u001b[38;5;167;01mImportError\u001b[39;00m:  \u001b[38;5;66;03m# for Mistune >= 2.0\u001b[39;00m\n\u001b[1;32m     38\u001b[0m     \u001b[38;5;28;01mimport\u001b[39;00m \u001b[38;5;21;01mre\u001b[39;00m\n\u001b[0;32m---> 40\u001b[0m     \u001b[38;5;28;01mfrom\u001b[39;00m \u001b[38;5;21;01mmistune\u001b[39;00m \u001b[38;5;28;01mimport\u001b[39;00m (  \u001b[38;5;66;03m# type: ignore[attr-defined]\u001b[39;00m\n\u001b[1;32m     41\u001b[0m         PLUGINS,\n\u001b[1;32m     42\u001b[0m         BlockParser,\n\u001b[1;32m     43\u001b[0m         HTMLRenderer,\n\u001b[1;32m     44\u001b[0m         InlineParser,\n\u001b[1;32m     45\u001b[0m         Markdown,\n\u001b[1;32m     46\u001b[0m     )\n\u001b[1;32m     48\u001b[0m     MISTUNE_V3 \u001b[38;5;241m=\u001b[39m \u001b[38;5;28;01mFalse\u001b[39;00m\n\u001b[1;32m     50\u001b[0m     \u001b[38;5;28;01mdef\u001b[39;00m \u001b[38;5;21mimport_plugin\u001b[39m(name: \u001b[38;5;28mstr\u001b[39m) \u001b[38;5;241m-\u001b[39m\u001b[38;5;241m>\u001b[39m \u001b[38;5;124m\"\u001b[39m\u001b[38;5;124mMarkdownPlugin\u001b[39m\u001b[38;5;124m\"\u001b[39m:  \u001b[38;5;66;03m# type: ignore[misc]\u001b[39;00m\n",
      "File \u001b[0;32m/opt/anaconda3/envs/alphamap/lib/python3.8/site-packages/mistune/__init__.py:4\u001b[0m\n\u001b[1;32m      2\u001b[0m \u001b[38;5;28;01mfrom\u001b[39;00m \u001b[38;5;21;01m.\u001b[39;00m\u001b[38;5;21;01mblock_parser\u001b[39;00m \u001b[38;5;28;01mimport\u001b[39;00m BlockParser\n\u001b[1;32m      3\u001b[0m \u001b[38;5;28;01mfrom\u001b[39;00m \u001b[38;5;21;01m.\u001b[39;00m\u001b[38;5;21;01minline_parser\u001b[39;00m \u001b[38;5;28;01mimport\u001b[39;00m InlineParser\n\u001b[0;32m----> 4\u001b[0m \u001b[38;5;28;01mfrom\u001b[39;00m \u001b[38;5;21;01m.\u001b[39;00m\u001b[38;5;21;01mrenderers\u001b[39;00m \u001b[38;5;28;01mimport\u001b[39;00m AstRenderer, HTMLRenderer\n\u001b[1;32m      5\u001b[0m \u001b[38;5;28;01mfrom\u001b[39;00m \u001b[38;5;21;01m.\u001b[39;00m\u001b[38;5;21;01mplugins\u001b[39;00m \u001b[38;5;28;01mimport\u001b[39;00m PLUGINS\n\u001b[1;32m      6\u001b[0m \u001b[38;5;28;01mfrom\u001b[39;00m \u001b[38;5;21;01m.\u001b[39;00m\u001b[38;5;21;01mutil\u001b[39;00m \u001b[38;5;28;01mimport\u001b[39;00m escape, escape_url, escape_html, unikey\n",
      "\u001b[0;31mImportError\u001b[0m: cannot import name 'AstRenderer' from 'mistune.renderers' (/opt/anaconda3/envs/alphamap/lib/python3.8/site-packages/mistune/renderers/__init__.py)"
     ]
    }
   ],
   "source": [
    "#hide\n",
    "from nbdev.showdoc import *"
   ]
  },
  {
   "cell_type": "code",
   "execution_count": null,
   "metadata": {},
   "outputs": [],
   "source": [
    "#hide\n",
    "from nbdev.export import *\n",
    "notebook2script()"
   ]
  },
  {
   "cell_type": "code",
   "execution_count": null,
   "metadata": {},
   "outputs": [],
   "source": []
  }
 ],
 "metadata": {
  "kernelspec": {
   "display_name": "Python [conda env:alphamap] *",
   "language": "python",
   "name": "conda-env-alphamap-py"
  },
  "language_info": {
   "codemirror_mode": {
    "name": "ipython",
    "version": 3
   },
   "file_extension": ".py",
   "mimetype": "text/x-python",
   "name": "python",
   "nbconvert_exporter": "python",
   "pygments_lexer": "ipython3",
   "version": "3.8.18"
  }
 },
 "nbformat": 4,
 "nbformat_minor": 4
}
